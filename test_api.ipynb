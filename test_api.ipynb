{
 "cells": [
  {
   "cell_type": "markdown",
   "id": "c51e24de",
   "metadata": {},
   "source": [
    "# Testing the FastAPI Application with API Key Authentication\n",
    "\n",
    "This notebook demonstrates how to test a FastAPI application that implements API key authentication. We'll test both public and protected endpoints to verify that authentication is working correctly."
   ]
  },
  {
   "cell_type": "markdown",
   "id": "3531b7ed",
   "metadata": {},
   "source": [
    "## 1. Import Required Libraries\n",
    "\n",
    "First, let's import the necessary libraries for API testing."
   ]
  },
  {
   "cell_type": "code",
   "execution_count": 15,
   "id": "29d70b83",
   "metadata": {},
   "outputs": [],
   "source": [
    "import requests\n",
    "import json\n",
    "import time\n",
    "import unittest\n",
    "from IPython.display import display, HTML"
   ]
  },
  {
   "cell_type": "markdown",
   "id": "e10b2079",
   "metadata": {},
   "source": [
    "## 2. Define API Endpoints and Parameters\n",
    "\n",
    "Next, we'll set up variables for our API endpoints and authentication."
   ]
  },
  {
   "cell_type": "code",
   "execution_count": 16,
   "id": "be742045",
   "metadata": {},
   "outputs": [],
   "source": [
    "# API base URL - update this with your actual deployment URL\n",
    "# For local testing:\n",
    "BASE_URL = \"http://localhost:8001\"\n",
    "\n",
    "# For Azure Container App (update with your actual URL):\n",
    "# BASE_URL = \"https://web-aca-app.[generated-text].[location-info].azurecontainerapps.io\"\n",
    "\n",
    "# API key - make sure this matches the one used when starting the container\n",
    "API_KEY = \"my-test-api-key\"\n",
    "\n",
    "# Endpoints\n",
    "PUBLIC_ENDPOINT = f\"{BASE_URL}/\"\n",
    "PROTECTED_ENDPOINT = f\"{BASE_URL}/hello\"\n",
    "\n",
    "# Headers for authenticated requests\n",
    "AUTH_HEADERS = {\n",
    "    \"X-API-Key\": API_KEY\n",
    "}"
   ]
  },
  {
   "cell_type": "markdown",
   "id": "797ed265",
   "metadata": {},
   "source": [
    "## 3. Basic GET Request - Testing Public Endpoint\n",
    "\n",
    "Let's start by testing the public endpoint that doesn't require authentication."
   ]
  },
  {
   "cell_type": "code",
   "execution_count": 17,
   "id": "7bd26f50",
   "metadata": {},
   "outputs": [
    {
     "name": "stdout",
     "output_type": "stream",
     "text": [
      "Status Code: 200\n",
      "\n",
      "Response Content:\n",
      "{\n",
      "  \"message\": \"This is a public endpoint. To access the protected endpoint, use /hello with an X-API-Key header.\"\n",
      "}\n"
     ]
    }
   ],
   "source": [
    "# Test the public endpoint (no authentication required)\n",
    "response = requests.get(PUBLIC_ENDPOINT)\n",
    "\n",
    "# Check the status code\n",
    "print(f\"Status Code: {response.status_code}\")\n",
    "\n",
    "# Display the response\n",
    "print(\"\\nResponse Content:\")\n",
    "print(json.dumps(response.json(), indent=2))"
   ]
  },
  {
   "cell_type": "markdown",
   "id": "ff78e64d",
   "metadata": {},
   "source": [
    "## 4. Authentication Implementation\n",
    "\n",
    "Now, let's test the protected endpoint with and without authentication."
   ]
  },
  {
   "cell_type": "code",
   "execution_count": 18,
   "id": "caf814cd",
   "metadata": {},
   "outputs": [
    {
     "name": "stdout",
     "output_type": "stream",
     "text": [
      "Status Code: 401\n",
      "{'detail': 'Invalid API Key'}\n"
     ]
    }
   ],
   "source": [
    "# Test the protected endpoint WITHOUT authentication (should fail)\n",
    "try:\n",
    "    response_no_auth = requests.get(PROTECTED_ENDPOINT)\n",
    "    print(f\"Status Code: {response_no_auth.status_code}\")\n",
    "    print(response_no_auth.json())\n",
    "except Exception as e:\n",
    "    print(f\"Error: {str(e)}\")"
   ]
  },
  {
   "cell_type": "code",
   "execution_count": 19,
   "id": "e0fcbe75",
   "metadata": {},
   "outputs": [
    {
     "name": "stdout",
     "output_type": "stream",
     "text": [
      "Status Code: 200\n",
      "\n",
      "Response Content:\n",
      "{\n",
      "  \"message\": \"Hello, welcome to FastAPI!\"\n",
      "}\n"
     ]
    }
   ],
   "source": [
    "# Test the protected endpoint WITH correct authentication\n",
    "response_with_auth = requests.get(PROTECTED_ENDPOINT, headers=AUTH_HEADERS)\n",
    "\n",
    "# Check the status code\n",
    "print(f\"Status Code: {response_with_auth.status_code}\")\n",
    "\n",
    "# Display the response\n",
    "print(\"\\nResponse Content:\")\n",
    "print(json.dumps(response_with_auth.json(), indent=2))"
   ]
  },
  {
   "cell_type": "code",
   "execution_count": 20,
   "id": "82925f78",
   "metadata": {},
   "outputs": [
    {
     "name": "stdout",
     "output_type": "stream",
     "text": [
      "Status Code: 401\n",
      "{'detail': 'Invalid API Key'}\n"
     ]
    }
   ],
   "source": [
    "# Test with incorrect API key (should fail)\n",
    "incorrect_headers = {\n",
    "    \"X-API-Key\": \"wrong-api-key\"\n",
    "}\n",
    "\n",
    "response_wrong_key = requests.get(PROTECTED_ENDPOINT, headers=incorrect_headers)\n",
    "print(f\"Status Code: {response_wrong_key.status_code}\")\n",
    "try:\n",
    "    print(response_wrong_key.json())\n",
    "except:\n",
    "    print(response_wrong_key.text)"
   ]
  },
  {
   "cell_type": "markdown",
   "id": "89709705",
   "metadata": {},
   "source": [
    "## 5. Error Handling\n",
    "\n",
    "Let's implement proper error handling for different scenarios."
   ]
  },
  {
   "cell_type": "code",
   "execution_count": 21,
   "id": "6520c357",
   "metadata": {},
   "outputs": [
    {
     "data": {
      "application/vnd.microsoft.datawrangler.viewer.v0+json": {
       "columns": [
        {
         "name": "index",
         "rawType": "int64",
         "type": "integer"
        },
        {
         "name": "name",
         "rawType": "object",
         "type": "string"
        },
        {
         "name": "url",
         "rawType": "object",
         "type": "string"
        },
        {
         "name": "status_code",
         "rawType": "int64",
         "type": "integer"
        },
        {
         "name": "elapsed_time",
         "rawType": "float64",
         "type": "float"
        },
        {
         "name": "success",
         "rawType": "bool",
         "type": "boolean"
        }
       ],
       "ref": "6c6dffc8-fd76-4bd3-bc8c-7cf97bcc7d7e",
       "rows": [
        [
         "0",
         "Public Endpoint (No Auth)",
         "http://localhost:8001/",
         "200",
         "0.01411128044128418",
         "True"
        ],
        [
         "1",
         "Protected Endpoint (No Auth)",
         "http://localhost:8001/hello",
         "401",
         "0.012878179550170898",
         "True"
        ],
        [
         "2",
         "Protected Endpoint (With Auth)",
         "http://localhost:8001/hello",
         "200",
         "0.010657548904418945",
         "True"
        ],
        [
         "3",
         "Protected Endpoint (Wrong Auth)",
         "http://localhost:8001/hello",
         "401",
         "0.014297723770141602",
         "True"
        ],
        [
         "4",
         "Nonexistent Endpoint",
         "http://localhost:8001/nonexistent",
         "404",
         "0.007134199142456055",
         "True"
        ]
       ],
       "shape": {
        "columns": 5,
        "rows": 5
       }
      },
      "text/html": [
       "<div>\n",
       "<style scoped>\n",
       "    .dataframe tbody tr th:only-of-type {\n",
       "        vertical-align: middle;\n",
       "    }\n",
       "\n",
       "    .dataframe tbody tr th {\n",
       "        vertical-align: top;\n",
       "    }\n",
       "\n",
       "    .dataframe thead th {\n",
       "        text-align: right;\n",
       "    }\n",
       "</style>\n",
       "<table border=\"1\" class=\"dataframe\">\n",
       "  <thead>\n",
       "    <tr style=\"text-align: right;\">\n",
       "      <th></th>\n",
       "      <th>name</th>\n",
       "      <th>url</th>\n",
       "      <th>status_code</th>\n",
       "      <th>elapsed_time</th>\n",
       "      <th>success</th>\n",
       "    </tr>\n",
       "  </thead>\n",
       "  <tbody>\n",
       "    <tr>\n",
       "      <th>0</th>\n",
       "      <td>Public Endpoint (No Auth)</td>\n",
       "      <td>http://localhost:8001/</td>\n",
       "      <td>200</td>\n",
       "      <td>0.014111</td>\n",
       "      <td>True</td>\n",
       "    </tr>\n",
       "    <tr>\n",
       "      <th>1</th>\n",
       "      <td>Protected Endpoint (No Auth)</td>\n",
       "      <td>http://localhost:8001/hello</td>\n",
       "      <td>401</td>\n",
       "      <td>0.012878</td>\n",
       "      <td>True</td>\n",
       "    </tr>\n",
       "    <tr>\n",
       "      <th>2</th>\n",
       "      <td>Protected Endpoint (With Auth)</td>\n",
       "      <td>http://localhost:8001/hello</td>\n",
       "      <td>200</td>\n",
       "      <td>0.010658</td>\n",
       "      <td>True</td>\n",
       "    </tr>\n",
       "    <tr>\n",
       "      <th>3</th>\n",
       "      <td>Protected Endpoint (Wrong Auth)</td>\n",
       "      <td>http://localhost:8001/hello</td>\n",
       "      <td>401</td>\n",
       "      <td>0.014298</td>\n",
       "      <td>True</td>\n",
       "    </tr>\n",
       "    <tr>\n",
       "      <th>4</th>\n",
       "      <td>Nonexistent Endpoint</td>\n",
       "      <td>http://localhost:8001/nonexistent</td>\n",
       "      <td>404</td>\n",
       "      <td>0.007134</td>\n",
       "      <td>True</td>\n",
       "    </tr>\n",
       "  </tbody>\n",
       "</table>\n",
       "</div>"
      ],
      "text/plain": [
       "                              name                                url  \\\n",
       "0        Public Endpoint (No Auth)             http://localhost:8001/   \n",
       "1     Protected Endpoint (No Auth)        http://localhost:8001/hello   \n",
       "2   Protected Endpoint (With Auth)        http://localhost:8001/hello   \n",
       "3  Protected Endpoint (Wrong Auth)        http://localhost:8001/hello   \n",
       "4             Nonexistent Endpoint  http://localhost:8001/nonexistent   \n",
       "\n",
       "   status_code  elapsed_time  success  \n",
       "0          200      0.014111     True  \n",
       "1          401      0.012878     True  \n",
       "2          200      0.010658     True  \n",
       "3          401      0.014298     True  \n",
       "4          404      0.007134     True  "
      ]
     },
     "metadata": {},
     "output_type": "display_data"
    }
   ],
   "source": [
    "import pandas as pd\n",
    "\n",
    "def test_endpoint(url, headers=None, expected_status=200, name=\"Test\"):\n",
    "    \"\"\"Test an endpoint and return information about the test\"\"\"\n",
    "    start_time = time.time()\n",
    "    try:\n",
    "        response = requests.get(url, headers=headers)\n",
    "        elapsed = time.time() - start_time\n",
    "        \n",
    "        result = {\n",
    "            \"name\": name,\n",
    "            \"url\": url,\n",
    "            \"status_code\": response.status_code,\n",
    "            \"elapsed_time\": elapsed,\n",
    "            \"success\": response.status_code == expected_status,\n",
    "            \"response\": response.json() if response.status_code < 400 else response.text\n",
    "        }\n",
    "    except Exception as e:\n",
    "        elapsed = time.time() - start_time\n",
    "        result = {\n",
    "            \"name\": name,\n",
    "            \"url\": url,\n",
    "            \"status_code\": 0,\n",
    "            \"elapsed_time\": elapsed,\n",
    "            \"success\": False,\n",
    "            \"response\": str(e)\n",
    "        }\n",
    "    return result\n",
    "\n",
    "# Run a set of tests\n",
    "tests = [\n",
    "    test_endpoint(PUBLIC_ENDPOINT, name=\"Public Endpoint (No Auth)\"),\n",
    "    test_endpoint(PROTECTED_ENDPOINT, name=\"Protected Endpoint (No Auth)\", expected_status=401),\n",
    "    test_endpoint(PROTECTED_ENDPOINT, headers=AUTH_HEADERS, name=\"Protected Endpoint (With Auth)\"),\n",
    "    test_endpoint(PROTECTED_ENDPOINT, headers={\"X-API-Key\": \"wrong-key\"}, name=\"Protected Endpoint (Wrong Auth)\", expected_status=401),\n",
    "    test_endpoint(f\"{BASE_URL}/nonexistent\", name=\"Nonexistent Endpoint\", expected_status=404)\n",
    "]\n",
    "\n",
    "# Display test results\n",
    "results_df = pd.DataFrame(tests)\n",
    "results_df = results_df[[\"name\", \"url\", \"status_code\", \"elapsed_time\", \"success\"]]\n",
    "display(results_df)"
   ]
  },
  {
   "cell_type": "markdown",
   "id": "dc9d2a10",
   "metadata": {},
   "source": [
    "## 6. Performance Testing\n",
    "\n",
    "Let's measure response times for multiple requests to evaluate performance."
   ]
  },
  {
   "cell_type": "code",
   "execution_count": 22,
   "id": "b313e887",
   "metadata": {},
   "outputs": [
    {
     "name": "stdout",
     "output_type": "stream",
     "text": [
      "Running performance test with 50 requests...\n",
      "Average response time: 0.0073 seconds\n",
      "Maximum response time: 0.0181 seconds\n",
      "Minimum response time: 0.0053 seconds\n",
      "Success rate: 100.00%\n",
      "Average response time: 0.0073 seconds\n",
      "Maximum response time: 0.0181 seconds\n",
      "Minimum response time: 0.0053 seconds\n",
      "Success rate: 100.00%\n"
     ]
    },
    {
     "data": {
      "image/png": "[encoded data removed]",
      "text/plain": [
       "<Figure size 1000x600 with 1 Axes>"
      ]
     },
     "metadata": {},
     "output_type": "display_data"
    },
    {
     "data": {
      "image/png": "[encoded data removed]",
      "text/plain": [
       "<Figure size 1000x600 with 1 Axes>"
      ]
     },
     "metadata": {},
     "output_type": "display_data"
    }
   ],
   "source": [
    "import matplotlib.pyplot as plt\n",
    "import pandas as pd\n",
    "\n",
    "\n",
    "def performance_test(url, headers=None, num_requests=50):\n",
    "    \"\"\"Test the performance of an endpoint by making multiple requests\"\"\"\n",
    "    response_times = []\n",
    "    success_count = 0\n",
    "    \n",
    "    for i in range(num_requests):\n",
    "        start_time = time.time()\n",
    "        try:\n",
    "            response = requests.get(url, headers=headers)\n",
    "            if response.status_code == 200:\n",
    "                success_count += 1\n",
    "        except:\n",
    "            pass\n",
    "        elapsed = time.time() - start_time\n",
    "        response_times.append(elapsed)\n",
    "    \n",
    "    return {\n",
    "        \"response_times\": response_times,\n",
    "        \"success_rate\": (success_count / num_requests) * 100\n",
    "    }\n",
    "\n",
    "# Test performance for protected endpoint\n",
    "num_requests = 50\n",
    "print(f\"Running performance test with {num_requests} requests...\")\n",
    "perf_results = performance_test(PROTECTED_ENDPOINT, headers=AUTH_HEADERS, num_requests=num_requests)\n",
    "\n",
    "# Calculate statistics\n",
    "avg_time = sum(perf_results[\"response_times\"]) / len(perf_results[\"response_times\"])\n",
    "max_time = max(perf_results[\"response_times\"])\n",
    "min_time = min(perf_results[\"response_times\"])\n",
    "\n",
    "print(f\"Average response time: {avg_time:.4f} seconds\")\n",
    "print(f\"Maximum response time: {max_time:.4f} seconds\")\n",
    "print(f\"Minimum response time: {min_time:.4f} seconds\")\n",
    "print(f\"Success rate: {perf_results['success_rate']:.2f}%\")\n",
    "\n",
    "# Plot the response times\n",
    "plt.figure(figsize=(10, 6))\n",
    "plt.plot(perf_results[\"response_times\"])\n",
    "plt.title(\"API Response Times\")\n",
    "plt.xlabel(\"Request Number\")\n",
    "plt.ylabel(\"Response Time (seconds)\")\n",
    "plt.grid(True)\n",
    "plt.show()\n",
    "\n",
    "# Plot the histogram of response times\n",
    "plt.figure(figsize=(10, 6))\n",
    "plt.hist(perf_results[\"response_times\"], bins=20)\n",
    "plt.title(\"Response Time Distribution\")\n",
    "plt.xlabel(\"Response Time (seconds)\")\n",
    "plt.ylabel(\"Frequency\")\n",
    "plt.grid(True)\n",
    "plt.show()"
   ]
  },
  {
   "cell_type": "markdown",
   "id": "d1ec1fe6",
   "metadata": {},
   "source": [
    "## 7. Automated Testing with unittest\n",
    "\n",
    "Let's create some automated tests using the unittest framework."
   ]
  },
  {
   "cell_type": "code",
   "execution_count": 23,
   "id": "4e9511ac",
   "metadata": {},
   "outputs": [
    {
     "name": "stderr",
     "output_type": "stream",
     "text": [
      "test_protected_endpoint_no_auth (__main__.FastAPITests.test_protected_endpoint_no_auth)\n",
      "Test that the protected endpoint fails without auth ... ok\n",
      "test_protected_endpoint_with_auth (__main__.FastAPITests.test_protected_endpoint_with_auth)\n",
      "Test that the protected endpoint works with auth ... ok\n",
      "ok\n",
      "test_protected_endpoint_with_auth (__main__.FastAPITests.test_protected_endpoint_with_auth)\n",
      "Test that the protected endpoint works with auth ... ok\n",
      "test_protected_endpoint_wrong_key (__main__.FastAPITests.test_protected_endpoint_wrong_key)\n",
      "Test that the protected endpoint fails with wrong auth ... test_protected_endpoint_wrong_key (__main__.FastAPITests.test_protected_endpoint_wrong_key)\n",
      "Test that the protected endpoint fails with wrong auth ... ok\n",
      "test_public_endpoint (__main__.FastAPITests.test_public_endpoint)\n",
      "Test the public endpoint ... ok\n",
      "test_public_endpoint (__main__.FastAPITests.test_public_endpoint)\n",
      "Test the public endpoint ... ok\n",
      "\n",
      "----------------------------------------------------------------------\n",
      "Ran 4 tests in 0.048s\n",
      "\n",
      "OK\n",
      "ok\n",
      "\n",
      "----------------------------------------------------------------------\n",
      "Ran 4 tests in 0.048s\n",
      "\n",
      "OK\n"
     ]
    },
    {
     "data": {
      "text/plain": [
       "<unittest.runner.TextTestResult run=4 errors=0 failures=0>"
      ]
     },
     "execution_count": 23,
     "metadata": {},
     "output_type": "execute_result"
    }
   ],
   "source": [
    "class FastAPITests(unittest.TestCase):\n",
    "    def setUp(self):\n",
    "        self.base_url = BASE_URL\n",
    "        self.api_key = API_KEY\n",
    "        self.auth_headers = {\"X-API-Key\": self.api_key}\n",
    "    \n",
    "    def test_public_endpoint(self):\n",
    "        \"\"\"Test the public endpoint\"\"\"\n",
    "        response = requests.get(f\"{self.base_url}/\")\n",
    "        self.assertEqual(response.status_code, 200)\n",
    "        self.assertIn(\"message\", response.json())\n",
    "    \n",
    "    def test_protected_endpoint_no_auth(self):\n",
    "        \"\"\"Test that the protected endpoint fails without auth\"\"\"\n",
    "        response = requests.get(f\"{self.base_url}/hello\")\n",
    "        self.assertEqual(response.status_code, 401)\n",
    "    \n",
    "    def test_protected_endpoint_with_auth(self):\n",
    "        \"\"\"Test that the protected endpoint works with auth\"\"\"\n",
    "        response = requests.get(f\"{self.base_url}/hello\", headers=self.auth_headers)\n",
    "        self.assertEqual(response.status_code, 200)\n",
    "        self.assertIn(\"message\", response.json())\n",
    "        self.assertEqual(response.json()[\"message\"], \"Hello, welcome to FastAPI!\")\n",
    "    \n",
    "    def test_protected_endpoint_wrong_key(self):\n",
    "        \"\"\"Test that the protected endpoint fails with wrong auth\"\"\"\n",
    "        wrong_headers = {\"X-API-Key\": \"wrong-key\"}\n",
    "        response = requests.get(f\"{self.base_url}/hello\", headers=wrong_headers)\n",
    "        self.assertEqual(response.status_code, 401)\n",
    "\n",
    "# Run the tests\n",
    "suite = unittest.TestLoader().loadTestsFromTestCase(FastAPITests)\n",
    "unittest.TextTestRunner(verbosity=2).run(suite)"
   ]
  },
  {
   "cell_type": "markdown",
   "id": "ea8c9e97",
   "metadata": {},
   "source": [
    "## 8. Summary and Report\n",
    "\n",
    "Let's generate a final report about our API testing."
   ]
  },
  {
   "cell_type": "code",
   "execution_count": 24,
   "id": "f6ffdb5b",
   "metadata": {},
   "outputs": [
    {
     "name": "stdout",
     "output_type": "stream",
     "text": [
      "API Testing Report\n",
      "=====================================\n",
      "Base URL: http://localhost:8001\n",
      "Tests run: 4\n",
      "Success rate: 100.00%\n",
      "Average response time: 0.0078 seconds\n",
      "=====================================\n"
     ]
    },
    {
     "data": {
      "application/vnd.microsoft.datawrangler.viewer.v0+json": {
       "columns": [
        {
         "name": "index",
         "rawType": "int64",
         "type": "integer"
        },
        {
         "name": "name",
         "rawType": "object",
         "type": "string"
        },
        {
         "name": "status",
         "rawType": "int64",
         "type": "integer"
        },
        {
         "name": "expected",
         "rawType": "int64",
         "type": "integer"
        },
        {
         "name": "success",
         "rawType": "bool",
         "type": "boolean"
        },
        {
         "name": "time",
         "rawType": "float64",
         "type": "float"
        }
       ],
       "ref": "58a6d43d-e973-4e0a-98bd-f741daeeff84",
       "rows": [
        [
         "0",
         "Public Endpoint",
         "200",
         "200",
         "True",
         "0.007088661193847656"
        ],
        [
         "1",
         "Protected Endpoint (No Auth)",
         "401",
         "401",
         "True",
         "0.008026838302612305"
        ],
        [
         "2",
         "Protected Endpoint (With Auth)",
         "200",
         "200",
         "True",
         "0.00888371467590332"
        ],
        [
         "3",
         "Protected Endpoint (Wrong Auth)",
         "401",
         "401",
         "True",
         "0.0073430538177490234"
        ]
       ],
       "shape": {
        "columns": 5,
        "rows": 4
       }
      },
      "text/html": [
       "<div>\n",
       "<style scoped>\n",
       "    .dataframe tbody tr th:only-of-type {\n",
       "        vertical-align: middle;\n",
       "    }\n",
       "\n",
       "    .dataframe tbody tr th {\n",
       "        vertical-align: top;\n",
       "    }\n",
       "\n",
       "    .dataframe thead th {\n",
       "        text-align: right;\n",
       "    }\n",
       "</style>\n",
       "<table border=\"1\" class=\"dataframe\">\n",
       "  <thead>\n",
       "    <tr style=\"text-align: right;\">\n",
       "      <th></th>\n",
       "      <th>name</th>\n",
       "      <th>status</th>\n",
       "      <th>expected</th>\n",
       "      <th>success</th>\n",
       "      <th>time</th>\n",
       "    </tr>\n",
       "  </thead>\n",
       "  <tbody>\n",
       "    <tr>\n",
       "      <th>0</th>\n",
       "      <td>Public Endpoint</td>\n",
       "      <td>200</td>\n",
       "      <td>200</td>\n",
       "      <td>True</td>\n",
       "      <td>0.007089</td>\n",
       "    </tr>\n",
       "    <tr>\n",
       "      <th>1</th>\n",
       "      <td>Protected Endpoint (No Auth)</td>\n",
       "      <td>401</td>\n",
       "      <td>401</td>\n",
       "      <td>True</td>\n",
       "      <td>0.008027</td>\n",
       "    </tr>\n",
       "    <tr>\n",
       "      <th>2</th>\n",
       "      <td>Protected Endpoint (With Auth)</td>\n",
       "      <td>200</td>\n",
       "      <td>200</td>\n",
       "      <td>True</td>\n",
       "      <td>0.008884</td>\n",
       "    </tr>\n",
       "    <tr>\n",
       "      <th>3</th>\n",
       "      <td>Protected Endpoint (Wrong Auth)</td>\n",
       "      <td>401</td>\n",
       "      <td>401</td>\n",
       "      <td>True</td>\n",
       "      <td>0.007343</td>\n",
       "    </tr>\n",
       "  </tbody>\n",
       "</table>\n",
       "</div>"
      ],
      "text/plain": [
       "                              name  status  expected  success      time\n",
       "0                  Public Endpoint     200       200     True  0.007089\n",
       "1     Protected Endpoint (No Auth)     401       401     True  0.008027\n",
       "2   Protected Endpoint (With Auth)     200       200     True  0.008884\n",
       "3  Protected Endpoint (Wrong Auth)     401       401     True  0.007343"
      ]
     },
     "metadata": {},
     "output_type": "display_data"
    },
    {
     "data": {
      "text/html": [
       "<div style=\"padding: 10px; background-color: #dff0d8; color: #3c763d; border: 1px solid #d6e9c6; border-radius: 4px;\">All tests passed successfully! ✅</div>"
      ],
      "text/plain": [
       "<IPython.core.display.HTML object>"
      ]
     },
     "metadata": {},
     "output_type": "display_data"
    }
   ],
   "source": [
    "def generate_report():\n",
    "    \"\"\"Generate a report of API testing results\"\"\"\n",
    "    \n",
    "    # Test different endpoints\n",
    "    endpoints = [\n",
    "        {\"name\": \"Public Endpoint\", \"url\": PUBLIC_ENDPOINT, \"headers\": None, \"expected\": 200},\n",
    "        {\"name\": \"Protected Endpoint (No Auth)\", \"url\": PROTECTED_ENDPOINT, \"headers\": None, \"expected\": 401},\n",
    "        {\"name\": \"Protected Endpoint (With Auth)\", \"url\": PROTECTED_ENDPOINT, \"headers\": AUTH_HEADERS, \"expected\": 200},\n",
    "        {\"name\": \"Protected Endpoint (Wrong Auth)\", \"url\": PROTECTED_ENDPOINT, \"headers\": {\"X-API-Key\": \"wrong\"}, \"expected\": 401}\n",
    "    ]\n",
    "    \n",
    "    results = []\n",
    "    for endpoint in endpoints:\n",
    "        start_time = time.time()\n",
    "        try:\n",
    "            response = requests.get(endpoint[\"url\"], headers=endpoint[\"headers\"])\n",
    "            success = response.status_code == endpoint[\"expected\"]\n",
    "            results.append({\n",
    "                \"name\": endpoint[\"name\"],\n",
    "                \"url\": endpoint[\"url\"],\n",
    "                \"status\": response.status_code,\n",
    "                \"expected\": endpoint[\"expected\"],\n",
    "                \"success\": success,\n",
    "                \"time\": time.time() - start_time,\n",
    "                \"response\": response.json() if response.status_code < 400 else response.text\n",
    "            })\n",
    "        except Exception as e:\n",
    "            results.append({\n",
    "                \"name\": endpoint[\"name\"],\n",
    "                \"url\": endpoint[\"url\"],\n",
    "                \"status\": \"Error\",\n",
    "                \"expected\": endpoint[\"expected\"],\n",
    "                \"success\": False,\n",
    "                \"time\": time.time() - start_time,\n",
    "                \"response\": str(e)\n",
    "            })\n",
    "    \n",
    "    # Create a DataFrame for the results\n",
    "    df = pd.DataFrame(results)\n",
    "    \n",
    "    # Calculate success rate\n",
    "    success_rate = (df[\"success\"].sum() / len(df)) * 100\n",
    "    \n",
    "    # Display the report\n",
    "    print(f\"API Testing Report\")\n",
    "    print(f\"=====================================\")\n",
    "    print(f\"Base URL: {BASE_URL}\")\n",
    "    print(f\"Tests run: {len(df)}\")\n",
    "    print(f\"Success rate: {success_rate:.2f}%\")\n",
    "    print(f\"Average response time: {df['time'].mean():.4f} seconds\")\n",
    "    print(f\"=====================================\")\n",
    "    \n",
    "    # Display the results table\n",
    "    display(df[[\"name\", \"status\", \"expected\", \"success\", \"time\"]])\n",
    "    \n",
    "    # Return success rate\n",
    "    return success_rate\n",
    "\n",
    "# Generate the report\n",
    "success_rate = generate_report()\n",
    "\n",
    "# Visual success indicator\n",
    "if success_rate == 100:\n",
    "    display(HTML('<div style=\"padding: 10px; background-color: #dff0d8; color: #3c763d; border: 1px solid #d6e9c6; border-radius: 4px;\">All tests passed successfully! ✅</div>'))\n",
    "else:\n",
    "    display(HTML(f'<div style=\"padding: 10px; background-color: #f2dede; color: #a94442; border: 1px solid #ebccd1; border-radius: 4px;\">Some tests failed. Success rate: {success_rate:.2f}% ❌</div>'))"
   ]
  },
  {
   "cell_type": "markdown",
   "id": "bc34caa1",
   "metadata": {},
   "source": [
    "## 9. Deploy to Azure Container Apps (Optional)\n",
    "\n",
    "If you want to test against your Azure Container App deployment, update the `BASE_URL` variable with your Azure Container App URL and run the tests again.\n",
    "\n",
    "```python\n",
    "# Azure Container App URL\n",
    "BASE_URL = \"https://web-aca-app.[generated-text].[location-info].azurecontainerapps.io\"\n",
    "\n",
    "# Set the API key to match what you configured in Azure\n",
    "API_KEY = \"your-secure-api-key-value\"\n",
    "```\n",
    "\n",
    "Make sure to set the API key in your Azure Container App with:\n",
    "\n",
    "```bash\n",
    "az containerapp update --name web-aca-app --resource-group web-fastapi-aca-rg --set-env-vars \"API_KEY=your-secure-api-key-value\"\n",
    "```"
   ]
  }
 ],
 "metadata": {
  "kernelspec": {
   "display_name": ".venv",
   "language": "python",
   "name": "python3"
  },
  "language_info": {
   "codemirror_mode": {
    "name": "ipython",
    "version": 3
   },
   "file_extension": ".py",
   "mimetype": "text/x-python",
   "name": "python",
   "nbconvert_exporter": "python",
   "pygments_lexer": "ipython3",
   "version": "3.13.7"
  }
 },
 "nbformat": 4,
 "nbformat_minor": 5
}
